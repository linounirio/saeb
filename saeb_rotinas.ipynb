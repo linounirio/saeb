{
  "nbformat": 4,
  "nbformat_minor": 0,
  "metadata": {
    "colab": {
      "provenance": [],
      "authorship_tag": "ABX9TyNmElIzBhkSWcqa3spnrUMg",
      "include_colab_link": true
    },
    "kernelspec": {
      "name": "python3",
      "display_name": "Python 3"
    },
    "language_info": {
      "name": "python"
    }
  },
  "cells": [
    {
      "cell_type": "markdown",
      "metadata": {
        "id": "view-in-github",
        "colab_type": "text"
      },
      "source": [
        "<a href=\"https://colab.research.google.com/github/linounirio/saeb/blob/main/saeb_rotinas.ipynb\" target=\"_parent\"><img src=\"https://colab.research.google.com/assets/colab-badge.svg\" alt=\"Open In Colab\"/></a>"
      ]
    },
    {
      "cell_type": "markdown",
      "source": [
        "# Rotinas de limpeza de DADOS do **SAEB**"
      ],
      "metadata": {
        "id": "N5C_xRDbYEnw"
      }
    },
    {
      "cell_type": "code",
      "execution_count": 1,
      "metadata": {
        "colab": {
          "base_uri": "https://localhost:8080/"
        },
        "id": "mGIThUuTW4Pm",
        "outputId": "72a62820-8282-46a1-aa9e-a96461f46b57"
      },
      "outputs": [
        {
          "output_type": "stream",
          "name": "stdout",
          "text": [
            "Mounted at /content/drive\n"
          ]
        }
      ],
      "source": [
        "from google.colab import drive\n",
        "import pandas as pd\n",
        "import statistics\n",
        "\n",
        "drive.mount('/content/drive')"
      ]
    },
    {
      "cell_type": "markdown",
      "source": [
        "# Criando a lista com as colunas necessárias do data frame\n",
        "\n",
        "* Em documentos oficiais tem sempre o dicionario. por isso fui nele e irei trabalhar, com duas bases dentro da tabela, primeiro analisarei a 5ª série.. irei baixar somente os dados que se referem a ela. depois usarei a mesma rotina atualizando as colunas que preciso para a 9ª série"
      ],
      "metadata": {
        "id": "UVOhyzMmiWOj"
      }
    },
    {
      "cell_type": "code",
      "source": [
        "# tabela para análise da 5 serie.\n",
        "variaveis = [\n",
        "    'ID_REGIAO','ID_UF','ID_MUNICIPIO','ID_AREA','ID_ESCOLA','IN_PUBLICA',\n",
        "    'ID_LOCALIZACAO','NU_MATRICULADOS_CENSO_5EF','NU_PRESENTES_5EF','NIVEL_0_MT5',\n",
        "    'NIVEL_1_MT5','NIVEL_2_MT5','NIVEL_3_MT5','NIVEL_4_MT5','NIVEL_5_MT5','NIVEL_6_MT5',\n",
        "    'NIVEL_7_MT5','NIVEL_8_MT5','NIVEL_9_MT5','NIVEL_10_MT5'\n",
        "]"
      ],
      "metadata": {
        "id": "7CVLlgy0iU6N"
      },
      "execution_count": 2,
      "outputs": []
    },
    {
      "cell_type": "code",
      "source": [
        "url = input(': ')"
      ],
      "metadata": {
        "colab": {
          "base_uri": "https://localhost:8080/"
        },
        "id": "bhoVGGPMYBTk",
        "outputId": "073c85d7-2658-47d4-dce5-342d5503fea6"
      },
      "execution_count": 3,
      "outputs": [
        {
          "name": "stdout",
          "output_type": "stream",
          "text": [
            ": /content/drive/MyDrive/03 - Projeto_Disc_Estatistica/projeto/saeb_2021/DADOS/TS_ESCOLA.csv\n"
          ]
        }
      ]
    },
    {
      "cell_type": "markdown",
      "source": [
        "# Tabela, do **SAEB**"
      ],
      "metadata": {
        "id": "-4PbKYgPahaO"
      }
    },
    {
      "cell_type": "code",
      "source": [
        "arquivo_saeb = pd.read_csv(url,sep = ';', encoding = 'latin-1',usecols=variaveis)"
      ],
      "metadata": {
        "id": "w8U8ultWZ5Oo"
      },
      "execution_count": 4,
      "outputs": []
    },
    {
      "cell_type": "code",
      "source": [
        "# verificando quanto de memória foi usada.\n",
        "arquivo_saeb.info(memory_usage='deep')"
      ],
      "metadata": {
        "colab": {
          "base_uri": "https://localhost:8080/"
        },
        "id": "OVbyOOoTm0Qx",
        "outputId": "054aa87f-ede4-41e3-f66b-9c7f0cb174ca"
      },
      "execution_count": 6,
      "outputs": [
        {
          "output_type": "stream",
          "name": "stdout",
          "text": [
            "<class 'pandas.core.frame.DataFrame'>\n",
            "RangeIndex: 70897 entries, 0 to 70896\n",
            "Data columns (total 20 columns):\n",
            " #   Column                     Non-Null Count  Dtype  \n",
            "---  ------                     --------------  -----  \n",
            " 0   ID_REGIAO                  70897 non-null  int64  \n",
            " 1   ID_UF                      70897 non-null  int64  \n",
            " 2   ID_MUNICIPIO               70897 non-null  int64  \n",
            " 3   ID_AREA                    70897 non-null  int64  \n",
            " 4   ID_ESCOLA                  70897 non-null  int64  \n",
            " 5   IN_PUBLICA                 70897 non-null  int64  \n",
            " 6   ID_LOCALIZACAO             70897 non-null  int64  \n",
            " 7   NU_MATRICULADOS_CENSO_5EF  45798 non-null  float64\n",
            " 8   NU_PRESENTES_5EF           45865 non-null  float64\n",
            " 9   NIVEL_0_MT5                32665 non-null  float64\n",
            " 10  NIVEL_1_MT5                32665 non-null  float64\n",
            " 11  NIVEL_2_MT5                32665 non-null  float64\n",
            " 12  NIVEL_3_MT5                32665 non-null  float64\n",
            " 13  NIVEL_4_MT5                32665 non-null  float64\n",
            " 14  NIVEL_5_MT5                32665 non-null  float64\n",
            " 15  NIVEL_6_MT5                32665 non-null  float64\n",
            " 16  NIVEL_7_MT5                32665 non-null  float64\n",
            " 17  NIVEL_8_MT5                32665 non-null  float64\n",
            " 18  NIVEL_9_MT5                32665 non-null  float64\n",
            " 19  NIVEL_10_MT5               32665 non-null  float64\n",
            "dtypes: float64(13), int64(7)\n",
            "memory usage: 10.8 MB\n"
          ]
        }
      ]
    },
    {
      "cell_type": "code",
      "source": [
        "print ('Total de linhas de arquivos:',len(arquivo_saeb))\n",
        "colunas = list(arquivo_saeb.keys())"
      ],
      "metadata": {
        "colab": {
          "base_uri": "https://localhost:8080/"
        },
        "id": "5T3FY3W5a90V",
        "outputId": "6d7895ee-e7be-410c-9c3f-74d7f5ad0ff7"
      },
      "execution_count": null,
      "outputs": [
        {
          "output_type": "stream",
          "name": "stdout",
          "text": [
            "Total de linhas de arquivos: 70897\n"
          ]
        }
      ]
    },
    {
      "cell_type": "markdown",
      "source": [
        "# Data Frame do RJ. Recorte c/ todas as variáveis originais mas as unidades de observação são apenas do Estado."
      ],
      "metadata": {
        "id": "xa-x-RqEcjNv"
      }
    },
    {
      "cell_type": "code",
      "source": [
        "arquivo_estado = arquivo_saeb.loc[lambda arquivo_saeb: arquivo_saeb['ID_UF']==33]\n",
        "arquivo_municipio = arquivo_estado.loc[lambda arquivo_estado: arquivo_estado['ID_AREA']==1]\n",
        "pblc_arq_municipio = arquivo_municipio.loc[lambda arquivo_municipio: arquivo_municipio['IN_PUBLICA']==1]"
      ],
      "metadata": {
        "id": "SbF2VTU7c9zO"
      },
      "execution_count": null,
      "outputs": []
    },
    {
      "cell_type": "code",
      "source": [
        "print ('total de linhas arquivo do estado: ', len(arquivo_estado))\n",
        "print ('total de linhas arquivo do municipio: ', len(arquivo_municipio))\n",
        "print ('total de linhas escolas públicas do município: ', len(pblc_arq_municipio))"
      ],
      "metadata": {
        "colab": {
          "base_uri": "https://localhost:8080/"
        },
        "id": "7ukP3o4zewGZ",
        "outputId": "77a82887-4689-47eb-c97e-e184f6e77444"
      },
      "execution_count": null,
      "outputs": [
        {
          "output_type": "stream",
          "name": "stdout",
          "text": [
            "total de linhas arquivo do estado:  4200\n",
            "total de linhas arquivo do municipio:  1212\n",
            "total de linhas escolas públicas do município:  1212\n"
          ]
        }
      ]
    },
    {
      "cell_type": "markdown",
      "source": [
        "# Retirar Colunas que não farão parte das análises dessa tabelas."
      ],
      "metadata": {
        "id": "eYSzRHixfbjz"
      }
    },
    {
      "cell_type": "code",
      "source": [
        "#variaveis = list() <- inserir as colunas que farão parte do dataframe\n",
        "#df_arquivo_municipio = arquivo_municipio[variaveis]"
      ],
      "metadata": {
        "id": "elqG97N6gIVZ"
      },
      "execution_count": null,
      "outputs": []
    }
  ]
}