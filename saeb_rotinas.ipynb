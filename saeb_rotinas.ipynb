{
  "nbformat": 4,
  "nbformat_minor": 0,
  "metadata": {
    "colab": {
      "provenance": [],
      "authorship_tag": "ABX9TyOAHEYlDWEIrJKjUYaxFNTm",
      "include_colab_link": true
    },
    "kernelspec": {
      "name": "python3",
      "display_name": "Python 3"
    },
    "language_info": {
      "name": "python"
    }
  },
  "cells": [
    {
      "cell_type": "markdown",
      "metadata": {
        "id": "view-in-github",
        "colab_type": "text"
      },
      "source": [
        "<a href=\"https://colab.research.google.com/github/linounirio/saeb/blob/main/saeb_rotinas.ipynb\" target=\"_parent\"><img src=\"https://colab.research.google.com/assets/colab-badge.svg\" alt=\"Open In Colab\"/></a>"
      ]
    },
    {
      "cell_type": "markdown",
      "source": [
        "# Rotinas de limpeza de DADOS do **SAEB**"
      ],
      "metadata": {
        "id": "N5C_xRDbYEnw"
      }
    },
    {
      "cell_type": "code",
      "execution_count": null,
      "metadata": {
        "colab": {
          "base_uri": "https://localhost:8080/"
        },
        "id": "mGIThUuTW4Pm",
        "outputId": "c3bb8b72-4892-4908-c185-dc8601c37e2f"
      },
      "outputs": [
        {
          "output_type": "stream",
          "name": "stdout",
          "text": [
            "Mounted at /content/drive\n"
          ]
        }
      ],
      "source": [
        "from google.colab import drive\n",
        "import pandas as pd\n",
        "import statistics\n",
        "\n",
        "drive.mount('/content/drive')"
      ]
    },
    {
      "cell_type": "code",
      "source": [
        "url = input(': ')"
      ],
      "metadata": {
        "colab": {
          "base_uri": "https://localhost:8080/"
        },
        "id": "bhoVGGPMYBTk",
        "outputId": "59ee8864-e3d2-475b-e083-bb3b052eef52"
      },
      "execution_count": null,
      "outputs": [
        {
          "name": "stdout",
          "output_type": "stream",
          "text": [
            ": /content/drive/MyDrive/03 - Projeto_Disc_Estatistica/projeto/saeb_2021/DADOS/TS_ESCOLA.csv\n"
          ]
        }
      ]
    },
    {
      "cell_type": "markdown",
      "source": [
        "# Tabela, do **SAEB**"
      ],
      "metadata": {
        "id": "-4PbKYgPahaO"
      }
    },
    {
      "cell_type": "code",
      "source": [
        "arquivo_saeb = pd.read_csv(url,sep = ';', encoding = 'latin-1')"
      ],
      "metadata": {
        "id": "w8U8ultWZ5Oo"
      },
      "execution_count": null,
      "outputs": []
    },
    {
      "cell_type": "code",
      "source": [
        "print ('Total de linhas de arquivos:',len(arquivo_saeb))\n",
        "colunas = list(arquivo_saeb.keys())"
      ],
      "metadata": {
        "colab": {
          "base_uri": "https://localhost:8080/"
        },
        "id": "5T3FY3W5a90V",
        "outputId": "6d7895ee-e7be-410c-9c3f-74d7f5ad0ff7"
      },
      "execution_count": null,
      "outputs": [
        {
          "output_type": "stream",
          "name": "stdout",
          "text": [
            "Total de linhas de arquivos: 70897\n"
          ]
        }
      ]
    },
    {
      "cell_type": "markdown",
      "source": [
        "# Data Frame do RJ. Recorte c/ todas as variáveis originais mas as unidades de observação são apenas do Estado."
      ],
      "metadata": {
        "id": "xa-x-RqEcjNv"
      }
    },
    {
      "cell_type": "code",
      "source": [
        "arquivo_estado = arquivo_saeb.loc[lambda arquivo_saeb: arquivo_saeb['ID_UF']==33]\n",
        "arquivo_municipio = arquivo_estado.loc[lambda arquivo_estado: arquivo_estado['ID_AREA']==1]\n",
        "pblc_arq_municipio = arquivo_municipio.loc[lambda arquivo_municipio: arquivo_municipio['IN_PUBLICA']==1]"
      ],
      "metadata": {
        "id": "SbF2VTU7c9zO"
      },
      "execution_count": null,
      "outputs": []
    },
    {
      "cell_type": "code",
      "source": [
        "print ('total de linhas arquivo do estado: ', len(arquivo_estado))\n",
        "print ('total de linhas arquivo do municipio: ', len(arquivo_municipio))\n",
        "print ('total de linhas escolas públicas do município: ', len(pblc_arq_municipio))"
      ],
      "metadata": {
        "colab": {
          "base_uri": "https://localhost:8080/"
        },
        "id": "7ukP3o4zewGZ",
        "outputId": "77a82887-4689-47eb-c97e-e184f6e77444"
      },
      "execution_count": null,
      "outputs": [
        {
          "output_type": "stream",
          "name": "stdout",
          "text": [
            "total de linhas arquivo do estado:  4200\n",
            "total de linhas arquivo do municipio:  1212\n",
            "total de linhas escolas públicas do município:  1212\n"
          ]
        }
      ]
    },
    {
      "cell_type": "markdown",
      "source": [
        "# Retirar Colunas que não farão parte das análises dessa tabelas."
      ],
      "metadata": {
        "id": "eYSzRHixfbjz"
      }
    },
    {
      "cell_type": "code",
      "source": [
        "#variaveis = list() <- inserir as colunas que farão parte do dataframe\n",
        "#df_arquivo_municipio = arquivo_municipio[variaveis]"
      ],
      "metadata": {
        "id": "elqG97N6gIVZ"
      },
      "execution_count": 1,
      "outputs": []
    }
  ]
}